{
 "cells": [
  {
   "attachments": {},
   "cell_type": "markdown",
   "metadata": {},
   "source": [
    "# JSON 파일 읽고 쓰기\n",
    "\n",
    "```python\n",
    "import json\n",
    "```"
   ]
  },
  {
   "cell_type": "code",
   "execution_count": 6,
   "metadata": {},
   "outputs": [
    {
     "name": "stdout",
     "output_type": "stream",
     "text": [
      "{\"ionic\": {\"price\": 20000000, \"year\": \"2022\"}, \"genesis\": {\"price\": 80000000, \"year\": \"2022\"}, \"bmw\": {\"price\": 150000000, \"year\": \"2019\"}}\n"
     ]
    }
   ],
   "source": [
    "import json\n",
    "\n",
    "file = open('./test.json', 'r', encoding='utf-8')\n",
    "jsondata = json.load(file)\n",
    "print(json.dumps(jsondata))\n",
    "\n",
    "file.close()"
   ]
  },
  {
   "cell_type": "code",
   "execution_count": 22,
   "metadata": {},
   "outputs": [
    {
     "name": "stdout",
     "output_type": "stream",
     "text": [
      "{\n",
      "\t\"ionic\": {\n",
      "\t\t\"price\": \"2천만원\",\n",
      "\t\t\"year\": \"2022\"\n",
      "\t},\n",
      "\t\"genesis\": {\n",
      "\t\t\"price\": \"8천만원\",\n",
      "\t\t\"year\": \"2022\"\n",
      "\t},\n",
      "\t\"bmw\": {\n",
      "\t\t\"price\": \"1억 5천만ㅇ원\",\n",
      "\t\t\"year\": \"2019\"\n",
      "\t}\n",
      "}\n"
     ]
    }
   ],
   "source": [
    "with open('./test.json', 'r', encoding='utf-8') as f:\n",
    "    jdata = json.load(f)\n",
    "\n",
    "# 한글 인코딩 문제가 있으면 ensure_ascii=False 추가할 것\n",
    "print(json.dumps(jdata, indent='\\t', ensure_ascii=False))"
   ]
  },
  {
   "attachments": {},
   "cell_type": "markdown",
   "metadata": {},
   "source": [
    "## json 파일 값읽기"
   ]
  },
  {
   "cell_type": "code",
   "execution_count": 11,
   "metadata": {},
   "outputs": [
    {
     "data": {
      "text/plain": [
       "{'price': 80000000, 'year': '2022'}"
      ]
     },
     "execution_count": 11,
     "metadata": {},
     "output_type": "execute_result"
    }
   ],
   "source": [
    "jdata['genesis']"
   ]
  },
  {
   "attachments": {},
   "cell_type": "markdown",
   "metadata": {},
   "source": [
    "### 값 수정"
   ]
  },
  {
   "cell_type": "code",
   "execution_count": 23,
   "metadata": {},
   "outputs": [
    {
     "name": "stdout",
     "output_type": "stream",
     "text": [
      "{'ionic': {'price': '2천만원', 'year': '2022'}, 'genesis': {'price': '9천 5백만원', 'year': '2022'}, 'bmw': {'price': '1억 5천만ㅇ원', 'year': '2019'}}\n"
     ]
    }
   ],
   "source": [
    "jdata['genesis']['price'] = '9천 5백만원' #95000000\n",
    "\n",
    "print(jdata)"
   ]
  },
  {
   "attachments": {},
   "cell_type": "markdown",
   "metadata": {},
   "source": [
    "### json 파일 저장"
   ]
  },
  {
   "cell_type": "code",
   "execution_count": 24,
   "metadata": {},
   "outputs": [],
   "source": [
    "with open('./test2.json', 'w', encoding='utf-8') as file:\n",
    "    # 한글인코딩은 ensure_ascii=False\n",
    "    json.dump(jdata, file, indent='\\t', ensure_ascii=False)"
   ]
  },
  {
   "attachments": {},
   "cell_type": "markdown",
   "metadata": {},
   "source": [
    "### json 파일 쓰기"
   ]
  },
  {
   "cell_type": "code",
   "execution_count": 29,
   "metadata": {},
   "outputs": [
    {
     "name": "stdout",
     "output_type": "stream",
     "text": [
      "{\n",
      "\t\"audi\": {\n",
      "\t\t\"price\": 300000000,\n",
      "\t\t\"year\": \"2020\"\n",
      "\t},\n",
      "\t\"porsche\": {\n",
      "\t\t\"price\": 1500000000,\n",
      "\t\t\"year\": \"2015\"\n",
      "\t}\n",
      "}\n"
     ]
    }
   ],
   "source": [
    "import json\n",
    "\n",
    "supercars = dict() # 딕셔너리 생성\n",
    "\n",
    "audi = dict()\n",
    "audi['price'] = 300000000\n",
    "audi['year'] = '2020'\n",
    "supercars['audi'] = audi\n",
    "\n",
    "porsche = dict()\n",
    "porsche['price'] = 1500000000\n",
    "porsche['year'] = '2015'\n",
    "supercars['porsche'] = porsche\n",
    "\n",
    "# json 파일로 저장\n",
    "with open('./supercar.json', 'w', encoding='utf-8') as file:\n",
    "    json.dump(supercars, file, indent='\\t', ensure_ascii=True)\n",
    "\n",
    "# json 파일 로드\n",
    "with open('./supercar.json', 'r', encoding='utf-8') as file:\n",
    "    json_data = json.load(file)\n",
    "\n",
    "print(json.dumps(json_data, indent='\\t')) "
   ]
  }
 ],
 "metadata": {
  "kernelspec": {
   "display_name": "Python 3",
   "language": "python",
   "name": "python3"
  },
  "language_info": {
   "codemirror_mode": {
    "name": "ipython",
    "version": 3
   },
   "file_extension": ".py",
   "mimetype": "text/x-python",
   "name": "python",
   "nbconvert_exporter": "python",
   "pygments_lexer": "ipython3",
   "version": "3.11.1"
  },
  "orig_nbformat": 4,
  "vscode": {
   "interpreter": {
    "hash": "f60cbf8c18769879401481151386e3b3dfff891030c1fdb3726252875c24736a"
   }
  }
 },
 "nbformat": 4,
 "nbformat_minor": 2
}
