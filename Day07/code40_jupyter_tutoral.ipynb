{
 "cells": [
  {
   "cell_type": "markdown",
   "metadata": {},
   "source": [
    "## 주피터 노트북 사용별 학습\n",
    "\n",
    "## 마크다운, 파이썬 셀을 추가\n",
    "- 현제 셀 앞에 셀 추가 : a\n",
    "- 현제 셀 뒤에 셀 추가 : b\n",
    "- 현제 셀을 마크다운으로 변경 : 포커스(커서가 깜빡거리지 않는)만 있는 상태 m\n",
    "- 현제 셀을 코드 셀로 변경 : 포커스 상태 y"
   ]
  },
  {
   "cell_type": "code",
   "execution_count": 25,
   "metadata": {},
   "outputs": [],
   "source": [
    "# 최초 작성된 python 셀"
   ]
  },
  {
   "attachments": {},
   "cell_type": "markdown",
   "metadata": {},
   "source": [
    "## 파이썬 셀 실행\n",
    "- 셀 실행 : Ctrl + Enter\n",
    "- 셀 실행, 다음 셀로 이동(다음 셀 없으면 생성) : Shift + Enter\n",
    "- 셀 실행, 다음 셀 생성 : Alt + Enter\n",
    "- 주석 처리 : Ctrl + / 또는 Crtl + K,C"
   ]
  },
  {
   "cell_type": "code",
   "execution_count": 26,
   "metadata": {},
   "outputs": [
    {
     "name": "stdout",
     "output_type": "stream",
     "text": [
      "Hello, Jupyter\n"
     ]
    }
   ],
   "source": [
    "print('Hello, Jupyter')\n",
    "# print('Hello, Jupyter')                                 \n"
   ]
  },
  {
   "attachments": {},
   "cell_type": "markdown",
   "metadata": {},
   "source": [
    "## 디버깅!!\n",
    "아무리 강조해도 지나치지 않습니다."
   ]
  },
  {
   "cell_type": "code",
   "execution_count": 27,
   "metadata": {},
   "outputs": [
    {
     "name": "stdout",
     "output_type": "stream",
     "text": [
      "1\n",
      "2\n",
      "True\n",
      "Hello\n",
      "3.1415926858\n"
     ]
    }
   ],
   "source": [
    "arr = [1, '2', True, 'Hello', 3.1415926858]\n",
    "\n",
    "for i in arr:\n",
    "    print(i)"
   ]
  },
  {
   "cell_type": "markdown",
   "metadata": {},
   "source": [
    "함수 디버깅"
   ]
  },
  {
   "cell_type": "code",
   "execution_count": 34,
   "metadata": {},
   "outputs": [
    {
     "name": "stdout",
     "output_type": "stream",
     "text": [
      "더하기\n",
      "14\n"
     ]
    }
   ],
   "source": [
    "def plus(x, y):\n",
    "    val = x + y\n",
    "    return val\n",
    "\n",
    "def div(x, y):\n",
    "    val = x / y\n",
    "    return val\n",
    "\n",
    "print('더하기')\n",
    "print(plus(10, 4))"
   ]
  },
  {
   "cell_type": "code",
   "execution_count": 36,
   "metadata": {},
   "outputs": [
    {
     "name": "stdout",
     "output_type": "stream",
     "text": [
      "더하기\n",
      "10.0\n"
     ]
    }
   ],
   "source": [
    "print('더하기')\n",
    "print(div(10, 1))"
   ]
  },
  {
   "attachments": {},
   "cell_type": "markdown",
   "metadata": {},
   "source": [
    "### list (ARRY) for문 예제"
   ]
  },
  {
   "cell_type": "code",
   "execution_count": 39,
   "metadata": {},
   "outputs": [
    {
     "data": {
      "text/plain": [
       "<enumerate at 0x252eda24590>"
      ]
     },
     "execution_count": 39,
     "metadata": {},
     "output_type": "execute_result"
    }
   ],
   "source": [
    "enumerate(arr)"
   ]
  },
  {
   "cell_type": "code",
   "execution_count": 42,
   "metadata": {},
   "outputs": [
    {
     "name": "stdout",
     "output_type": "stream",
     "text": [
      "0 = 1\n",
      "1 = 2\n",
      "2 = True\n",
      "3 = Hello\n",
      "4 = 3.1415926858\n"
     ]
    }
   ],
   "source": [
    "for i , item in enumerate(arr):\n",
    "    print(f'{i} = {item}')"
   ]
  }
 ],
 "metadata": {
  "kernelspec": {
   "display_name": "venv",
   "language": "python",
   "name": "python3"
  },
  "language_info": {
   "codemirror_mode": {
    "name": "ipython",
    "version": 3
   },
   "file_extension": ".py",
   "mimetype": "text/x-python",
   "name": "python",
   "nbconvert_exporter": "python",
   "pygments_lexer": "ipython3",
   "version": "3.11.1"
  },
  "orig_nbformat": 4,
  "vscode": {
   "interpreter": {
    "hash": "7855a88e19b70ff0b641478f4f753a184f836493e477384d9f992e0ba12a1414"
   }
  }
 },
 "nbformat": 4,
 "nbformat_minor": 2
}
